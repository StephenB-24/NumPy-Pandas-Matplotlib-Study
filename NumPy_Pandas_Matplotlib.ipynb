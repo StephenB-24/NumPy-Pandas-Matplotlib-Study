{
  "nbformat": 4,
  "nbformat_minor": 0,
  "metadata": {
    "colab": {
      "name": "NumPy-Pandas-Matplotlib.ipynb",
      "provenance": []
    },
    "kernelspec": {
      "name": "python3",
      "display_name": "Python 3"
    },
    "language_info": {
      "name": "python"
    }
  },
  "cells": [
    {
      "cell_type": "markdown",
      "source": [
        "# A Thorough Examination of the NumPy, Pandas, and Matplotlib Libraries\n"
      ],
      "metadata": {
        "id": "lrIrNTzjq-q-"
      }
    },
    {
      "cell_type": "markdown",
      "source": [
        "<h2>NumPy</h2>\n",
        "<h3>Why use NumPy?</h3>\n",
        "\n",
        "- In one statement, it is much faster.\n",
        "- In Python, a list is allowed to be a collection many various data objects.\n",
        "- NumPy arrays are essentially a list with elements restricted to the same type. In fact, NumPy arrays cannot store heterogenous data. \n",
        "- Functions applied to Python lists require meta-data for each element, specifying it's type, regardless of if they are all the same.\n",
        "- NumPy arrays differ from a traditional list in that we do not need to save information about each individual element. It is known that each element will be the same. Because of this, functions written for NumPy arrays are then much faster.\n",
        "- NumPy's power becomes evident when working with large quantities of numeric data."
      ],
      "metadata": {
        "id": "T9MxhFGBtFrj"
      }
    },
    {
      "cell_type": "markdown",
      "source": [
        "First, import NumPy"
      ],
      "metadata": {
        "id": "xBEQ5ywe5aM0"
      }
    },
    {
      "cell_type": "code",
      "source": [
        "import numpy as np"
      ],
      "metadata": {
        "id": "pn8eLRIJtwhs"
      },
      "execution_count": 1,
      "outputs": []
    },
    {
      "cell_type": "markdown",
      "source": [
        "NumPy arrays can be made using a list or a tuple."
      ],
      "metadata": {
        "id": "WNt_AW-_5hBx"
      }
    },
    {
      "cell_type": "code",
      "source": [
        "arr1 = np.array([1, 2, 3, 4, 5])\n",
        "arr2 = np.array((1, 6, 3, 4, 9))\n",
        "\n",
        "print(arr1)\n",
        "print(arr2)"
      ],
      "metadata": {
        "colab": {
          "base_uri": "https://localhost:8080/"
        },
        "id": "pO983sUv5A3P",
        "outputId": "876a140b-07e1-4484-ddfa-014dbedc8b37"
      },
      "execution_count": 2,
      "outputs": [
        {
          "output_type": "stream",
          "name": "stdout",
          "text": [
            "[1 2 3 4 5]\n",
            "[1 6 3 4 9]\n"
          ]
        }
      ]
    },
    {
      "cell_type": "markdown",
      "source": [
        "What type are these objects?"
      ],
      "metadata": {
        "id": "GGwjre5t5nVO"
      }
    },
    {
      "cell_type": "code",
      "source": [
        "print(type(arr1))\n",
        "print(type(arr2))"
      ],
      "metadata": {
        "colab": {
          "base_uri": "https://localhost:8080/"
        },
        "id": "dv3Wqp3f5nwL",
        "outputId": "ee6afd05-915f-4105-b5ef-4a4ed36b76fd"
      },
      "execution_count": 3,
      "outputs": [
        {
          "output_type": "stream",
          "name": "stdout",
          "text": [
            "<class 'numpy.ndarray'>\n",
            "<class 'numpy.ndarray'>\n"
          ]
        }
      ]
    },
    {
      "cell_type": "markdown",
      "source": [
        "Note that the data type is automatically inferred when the NumPy array is made. However, the array data type can manually be assigned."
      ],
      "metadata": {
        "id": "ps1p81K36sFA"
      }
    },
    {
      "cell_type": "code",
      "source": [
        "arr3 = np.array([1, 2, 3, 4], dtype='i')    # Integer\n",
        "arr4 = np.array([1, 2, 3, 4], dtype='f')    # Float\n",
        "arr5 = np.array([1, 2, 3, 4], dtype=np.str) # String\n",
        "\n",
        "# Data type list: https://numpy.org/doc/stable/user/basics.types.html#\n",
        "\n",
        "print(arr3)\n",
        "print(arr4)\n",
        "print(arr5)"
      ],
      "metadata": {
        "colab": {
          "base_uri": "https://localhost:8080/"
        },
        "id": "grJ68lgn7YCA",
        "outputId": "e1e30ea8-cf18-4378-a125-91f7d3c5739b"
      },
      "execution_count": 4,
      "outputs": [
        {
          "output_type": "stream",
          "name": "stdout",
          "text": [
            "[1 2 3 4]\n",
            "[1. 2. 3. 4.]\n",
            "['1' '2' '3' '4']\n"
          ]
        }
      ]
    },
    {
      "cell_type": "markdown",
      "source": [
        "Multi-dimensional NumPy arrays are also possible. Below, this is done with a tuples and lists."
      ],
      "metadata": {
        "id": "e7aK77aG9_oM"
      }
    },
    {
      "cell_type": "code",
      "source": [
        "arr1_2D = np.array([[1, 2, 3, 4], [5, 6, 7, 8]])\n",
        "arr2_2D = np.array(((1, 2, 3, 4), (5, 6, 7, 8)))\n",
        "\n",
        "print(arr1_2D)\n",
        "print(arr2_2D)"
      ],
      "metadata": {
        "colab": {
          "base_uri": "https://localhost:8080/"
        },
        "id": "E4pZI-5Z7wjg",
        "outputId": "49676e9f-0958-4615-81e3-8e53e9f51018"
      },
      "execution_count": 5,
      "outputs": [
        {
          "output_type": "stream",
          "name": "stdout",
          "text": [
            "[[1 2 3 4]\n",
            " [5 6 7 8]]\n",
            "[[1 2 3 4]\n",
            " [5 6 7 8]]\n"
          ]
        }
      ]
    },
    {
      "cell_type": "markdown",
      "source": [
        "Notice how NumPy nicely formats the arrays into a 2D representation on its own.\n",
        "\n",
        "Next, let's access the elements in the 2D array.\n",
        "For sake of the example, let's access the 1 and the 8:"
      ],
      "metadata": {
        "id": "-9m4Ci9L_7Cw"
      }
    },
    {
      "cell_type": "code",
      "source": [
        "print(arr1_2D[0, 0])\n",
        "print(arr2_2D[1, 3])"
      ],
      "metadata": {
        "colab": {
          "base_uri": "https://localhost:8080/"
        },
        "id": "fNtXhhsjAY0z",
        "outputId": "e4bbf4c1-f35d-42fb-f91a-ecc5976ffbfa"
      },
      "execution_count": 6,
      "outputs": [
        {
          "output_type": "stream",
          "name": "stdout",
          "text": [
            "1\n",
            "8\n"
          ]
        }
      ]
    },
    {
      "cell_type": "markdown",
      "source": [
        "The number of dimensions can be expanded, up to a hard-coded limit of 32 dimensions.\n",
        "\n",
        "Here is one example of a 3D array:"
      ],
      "metadata": {
        "id": "mnJVfaUsBbdi"
      }
    },
    {
      "cell_type": "code",
      "source": [
        "arr1_3D = np.array([[[1, 2, 3, 4], [5, 6, 7, 8]], [[9, 10, 11, 12], [13, 14, 15, 16]]])\n",
        "\n",
        "print(arr1_3D)"
      ],
      "metadata": {
        "colab": {
          "base_uri": "https://localhost:8080/"
        },
        "id": "Vgu29VGSBtYm",
        "outputId": "e68a1f21-1388-4313-984d-3e5135b1ddc1"
      },
      "execution_count": 7,
      "outputs": [
        {
          "output_type": "stream",
          "name": "stdout",
          "text": [
            "[[[ 1  2  3  4]\n",
            "  [ 5  6  7  8]]\n",
            "\n",
            " [[ 9 10 11 12]\n",
            "  [13 14 15 16]]]\n"
          ]
        }
      ]
    },
    {
      "cell_type": "markdown",
      "source": [
        "Given an arbitrary array, one can analyze the array in different ways.\n",
        "\n",
        "Number of dimensions:"
      ],
      "metadata": {
        "id": "lK0BCN_uCGbz"
      }
    },
    {
      "cell_type": "code",
      "source": [
        "arr1_3D.ndim"
      ],
      "metadata": {
        "colab": {
          "base_uri": "https://localhost:8080/"
        },
        "id": "yXDMmuAfC23t",
        "outputId": "47fe7198-ca11-44a1-afa8-4fcdd3d2be7e"
      },
      "execution_count": 8,
      "outputs": [
        {
          "output_type": "execute_result",
          "data": {
            "text/plain": [
              "3"
            ]
          },
          "metadata": {},
          "execution_count": 8
        }
      ]
    },
    {
      "cell_type": "markdown",
      "source": [
        "To see the shape of the array:"
      ],
      "metadata": {
        "id": "pL3iwia2C98A"
      }
    },
    {
      "cell_type": "code",
      "source": [
        "arr1_3D.shape"
      ],
      "metadata": {
        "colab": {
          "base_uri": "https://localhost:8080/"
        },
        "id": "H2o-F2dYC5pS",
        "outputId": "5b4f19c9-c45d-431d-bfee-db45580cf415"
      },
      "execution_count": 9,
      "outputs": [
        {
          "output_type": "execute_result",
          "data": {
            "text/plain": [
              "(2, 2, 4)"
            ]
          },
          "metadata": {},
          "execution_count": 9
        }
      ]
    },
    {
      "cell_type": "markdown",
      "source": [
        "To see the shape of a particular dimension:"
      ],
      "metadata": {
        "id": "D-MMqJUdD9kI"
      }
    },
    {
      "cell_type": "code",
      "source": [
        "print(arr1_3D[0].shape)    # The shape of the first 2D array\n",
        "print(arr1_3D[0, 1].shape) # The shape of the first 2D array's second 1D Array."
      ],
      "metadata": {
        "colab": {
          "base_uri": "https://localhost:8080/"
        },
        "id": "7Eh7iy6HEAzg",
        "outputId": "0dcff93b-9bab-4dcb-ad61-eed62c2b84ea"
      },
      "execution_count": 10,
      "outputs": [
        {
          "output_type": "stream",
          "name": "stdout",
          "text": [
            "(2, 4)\n",
            "(4,)\n"
          ]
        }
      ]
    },
    {
      "cell_type": "markdown",
      "source": [
        "The number of bytes can also be checked:"
      ],
      "metadata": {
        "id": "sxRLT8zqENx6"
      }
    },
    {
      "cell_type": "code",
      "source": [
        "arr1_3D.nbytes"
      ],
      "metadata": {
        "colab": {
          "base_uri": "https://localhost:8080/"
        },
        "id": "lfcHB3tzFPYn",
        "outputId": "d92059ab-43ff-4b6e-997a-5ce3267196fa"
      },
      "execution_count": 11,
      "outputs": [
        {
          "output_type": "execute_result",
          "data": {
            "text/plain": [
              "128"
            ]
          },
          "metadata": {},
          "execution_count": 11
        }
      ]
    },
    {
      "cell_type": "markdown",
      "source": [
        "There are many more, this was just a few of them.\n",
        "\n",
        "NumPy also has many ways to create arrays.\n",
        "\n",
        "To create an array of all zeros:\n"
      ],
      "metadata": {
        "id": "16d16wzBFUYl"
      }
    },
    {
      "cell_type": "code",
      "source": [
        "arr_zeros = np.zeros(100)\n",
        "print(arr_zeros)\n",
        "\n",
        "arr_zeros_2D = np.zeros([100, 100])\n",
        "print(arr_zeros_2D)"
      ],
      "metadata": {
        "colab": {
          "base_uri": "https://localhost:8080/"
        },
        "id": "aWHQB6xmFwg3",
        "outputId": "ae05336f-3854-4841-8458-3600e0751f39"
      },
      "execution_count": 12,
      "outputs": [
        {
          "output_type": "stream",
          "name": "stdout",
          "text": [
            "[0. 0. 0. 0. 0. 0. 0. 0. 0. 0. 0. 0. 0. 0. 0. 0. 0. 0. 0. 0. 0. 0. 0. 0.\n",
            " 0. 0. 0. 0. 0. 0. 0. 0. 0. 0. 0. 0. 0. 0. 0. 0. 0. 0. 0. 0. 0. 0. 0. 0.\n",
            " 0. 0. 0. 0. 0. 0. 0. 0. 0. 0. 0. 0. 0. 0. 0. 0. 0. 0. 0. 0. 0. 0. 0. 0.\n",
            " 0. 0. 0. 0. 0. 0. 0. 0. 0. 0. 0. 0. 0. 0. 0. 0. 0. 0. 0. 0. 0. 0. 0. 0.\n",
            " 0. 0. 0. 0.]\n",
            "[[0. 0. 0. ... 0. 0. 0.]\n",
            " [0. 0. 0. ... 0. 0. 0.]\n",
            " [0. 0. 0. ... 0. 0. 0.]\n",
            " ...\n",
            " [0. 0. 0. ... 0. 0. 0.]\n",
            " [0. 0. 0. ... 0. 0. 0.]\n",
            " [0. 0. 0. ... 0. 0. 0.]]\n"
          ]
        }
      ]
    },
    {
      "cell_type": "markdown",
      "source": [
        "To create an array that spans throughout a range:"
      ],
      "metadata": {
        "id": "UEw_Py7zGIBI"
      }
    },
    {
      "cell_type": "code",
      "source": [
        "arr_range = np.arange(100)\n",
        "print('Stepping by ones:\\n', arr_range)\n",
        "\n",
        "arr_range_bounds = np.arange(10, 100)\n",
        "print(\"Bounded from 10 to 100:\\n\", arr_range_bounds)\n",
        "\n",
        "arr_range_fivestep = np.arange(start=0, stop=101, step=5)\n",
        "print('Stepping by fives:\\n', arr_range_fivestep)\n",
        "\n",
        "arr_range_fivestep_reverse = np.arange(start=0, stop=-101, step=-5)\n",
        "print('Stepping by fives in reverse:\\n', arr_range_fivestep_reverse)"
      ],
      "metadata": {
        "colab": {
          "base_uri": "https://localhost:8080/"
        },
        "id": "6numcs57GQUs",
        "outputId": "e49b5e5f-7eba-4877-a84f-faa1998dd107"
      },
      "execution_count": 13,
      "outputs": [
        {
          "output_type": "stream",
          "name": "stdout",
          "text": [
            "Stepping by ones:\n",
            " [ 0  1  2  3  4  5  6  7  8  9 10 11 12 13 14 15 16 17 18 19 20 21 22 23\n",
            " 24 25 26 27 28 29 30 31 32 33 34 35 36 37 38 39 40 41 42 43 44 45 46 47\n",
            " 48 49 50 51 52 53 54 55 56 57 58 59 60 61 62 63 64 65 66 67 68 69 70 71\n",
            " 72 73 74 75 76 77 78 79 80 81 82 83 84 85 86 87 88 89 90 91 92 93 94 95\n",
            " 96 97 98 99]\n",
            "Bounded from 10 to 100:\n",
            " [10 11 12 13 14 15 16 17 18 19 20 21 22 23 24 25 26 27 28 29 30 31 32 33\n",
            " 34 35 36 37 38 39 40 41 42 43 44 45 46 47 48 49 50 51 52 53 54 55 56 57\n",
            " 58 59 60 61 62 63 64 65 66 67 68 69 70 71 72 73 74 75 76 77 78 79 80 81\n",
            " 82 83 84 85 86 87 88 89 90 91 92 93 94 95 96 97 98 99]\n",
            "Stepping by fives:\n",
            " [  0   5  10  15  20  25  30  35  40  45  50  55  60  65  70  75  80  85\n",
            "  90  95 100]\n",
            "Stepping by fives in reverse:\n",
            " [   0   -5  -10  -15  -20  -25  -30  -35  -40  -45  -50  -55  -60  -65\n",
            "  -70  -75  -80  -85  -90  -95 -100]\n"
          ]
        }
      ]
    },
    {
      "cell_type": "markdown",
      "source": [
        "To create an array that is a random permutation of elements:"
      ],
      "metadata": {
        "id": "zznXLpXcHUn8"
      }
    },
    {
      "cell_type": "code",
      "source": [
        "arr_rand_perm = np.random.permutation(np.arange(10))\n",
        "print(arr_rand_perm)"
      ],
      "metadata": {
        "colab": {
          "base_uri": "https://localhost:8080/"
        },
        "id": "VUxePramHUtx",
        "outputId": "917fb808-1077-44c6-e655-308ae2946d1c"
      },
      "execution_count": 14,
      "outputs": [
        {
          "output_type": "stream",
          "name": "stdout",
          "text": [
            "[0 3 6 8 5 9 4 1 7 2]\n"
          ]
        }
      ]
    },
    {
      "cell_type": "markdown",
      "source": [
        "Notice how the above used \"random\". Random can be used for many things.\n",
        "\n",
        "For example, creating a random integer within a range (0 inclusive and 100 exclusive):"
      ],
      "metadata": {
        "id": "vp2zsddUKu-l"
      }
    },
    {
      "cell_type": "code",
      "source": [
        "np.random.randint(0, 100)"
      ],
      "metadata": {
        "colab": {
          "base_uri": "https://localhost:8080/"
        },
        "id": "et4WJNFwKuo7",
        "outputId": "87b9f94c-4ecf-4b34-c38f-eb6dd15fc4b2"
      },
      "execution_count": 15,
      "outputs": [
        {
          "output_type": "execute_result",
          "data": {
            "text/plain": [
              "99"
            ]
          },
          "metadata": {},
          "execution_count": 15
        }
      ]
    },
    {
      "cell_type": "markdown",
      "source": [
        "Existing arrays can also be reshaped.\n",
        "\n",
        "For example, if we have a 2D array, we can append each array of the 2D array to make it 1D:"
      ],
      "metadata": {
        "id": "2GisDLH_LXqA"
      }
    },
    {
      "cell_type": "code",
      "source": [
        "arr_2D = np.array([[1, 2, 3, 4, 5], [6, 7, 8, 9, 10]])\n",
        "arr_1D_reshape = np.reshape(arr_2D, (10))\n",
        "print(arr_1D_reshape)"
      ],
      "metadata": {
        "colab": {
          "base_uri": "https://localhost:8080/"
        },
        "id": "36EiHWcRLXvg",
        "outputId": "8a7ac648-3aad-4627-dde8-35693844f1a7"
      },
      "execution_count": 16,
      "outputs": [
        {
          "output_type": "stream",
          "name": "stdout",
          "text": [
            "[ 1  2  3  4  5  6  7  8  9 10]\n"
          ]
        }
      ]
    },
    {
      "cell_type": "markdown",
      "source": [
        "This can be done in reverse as well:"
      ],
      "metadata": {
        "id": "Z2j9340ZMZei"
      }
    },
    {
      "cell_type": "code",
      "source": [
        "arr_2D_reshape = np.reshape(arr_1D_reshape, [2, 5])\n",
        "print('1D of 10 elements into a 2D array of 2 arrays, each containing 5 elements:\\n',\n",
        "      arr_2D_reshape)\n",
        "\n",
        "arr_2D_reshape = np.reshape(arr_1D_reshape, [5, 2])\n",
        "print('1D of 10 elements into a 2D array of 5 arrays, each containing 2 elements:\\n',\n",
        "      arr_2D_reshape)"
      ],
      "metadata": {
        "colab": {
          "base_uri": "https://localhost:8080/"
        },
        "id": "pp9D3lXsMbJF",
        "outputId": "13fa1f87-a0d0-4f75-ef64-d5883b4b46b0"
      },
      "execution_count": 17,
      "outputs": [
        {
          "output_type": "stream",
          "name": "stdout",
          "text": [
            "1D of 10 elements into a 2D array of 2 arrays, each containing 5 elements:\n",
            " [[ 1  2  3  4  5]\n",
            " [ 6  7  8  9 10]]\n",
            "1D of 10 elements into a 2D array of 5 arrays, each containing 2 elements:\n",
            " [[ 1  2]\n",
            " [ 3  4]\n",
            " [ 5  6]\n",
            " [ 7  8]\n",
            " [ 9 10]]\n"
          ]
        }
      ]
    },
    {
      "cell_type": "markdown",
      "source": [
        "Let's create an array of size 100, with random floats from 0 to 1:"
      ],
      "metadata": {
        "id": "obkUd53zNcnE"
      }
    },
    {
      "cell_type": "code",
      "source": [
        "arr_rand = np.random.rand(10)\n",
        "print(\"1D random array from 0 to 1, 10 long:\\n\", arr_rand)\n",
        "\n",
        "arr_rand_2D = np.random.rand(5, 5)\n",
        "print(\"2D random array from 0 to 1, 5 by 5:\\n\", arr_rand_2D)"
      ],
      "metadata": {
        "colab": {
          "base_uri": "https://localhost:8080/"
        },
        "id": "XirqMNHFNcyY",
        "outputId": "8aae42f7-9f7d-49e6-f098-eb3944605802"
      },
      "execution_count": 18,
      "outputs": [
        {
          "output_type": "stream",
          "name": "stdout",
          "text": [
            "1D random array from 0 to 1, 10 long:\n",
            " [0.57188129 0.38897345 0.66469531 0.9317239  0.32126882 0.6441216\n",
            " 0.44184694 0.22222051 0.57523031 0.56457486]\n",
            "2D random array from 0 to 1, 5 by 5:\n",
            " [[0.06740837 0.78048287 0.47553722 0.13456349 0.43903007]\n",
            " [0.79966972 0.34439957 0.17763382 0.10516288 0.384989  ]\n",
            " [0.67379921 0.71479626 0.34160177 0.71507962 0.41381525]\n",
            " [0.83374786 0.6192073  0.85540528 0.21989039 0.97867308]\n",
            " [0.25666509 0.42544659 0.3388317  0.50586545 0.52741493]]\n"
          ]
        }
      ]
    },
    {
      "cell_type": "markdown",
      "source": [
        "Let's sneak peak at what the distribution looks like:"
      ],
      "metadata": {
        "id": "qyxot4hlN8yn"
      }
    },
    {
      "cell_type": "code",
      "source": [
        "import matplotlib.pyplot as plt\n",
        "\n",
        "plt.hist(arr_rand)"
      ],
      "metadata": {
        "colab": {
          "base_uri": "https://localhost:8080/",
          "height": 352
        },
        "id": "W-EZMYz1N9DV",
        "outputId": "b226d922-f55d-44d2-f7f2-1656c9a0f24e"
      },
      "execution_count": 19,
      "outputs": [
        {
          "output_type": "execute_result",
          "data": {
            "text/plain": [
              "(array([1., 1., 1., 1., 3., 1., 1., 0., 0., 1.]),\n",
              " array([0.22222051, 0.29317085, 0.36412119, 0.43507153, 0.50602187,\n",
              "        0.57697221, 0.64792255, 0.71887289, 0.78982323, 0.86077356,\n",
              "        0.9317239 ]),\n",
              " <a list of 10 Patch objects>)"
            ]
          },
          "metadata": {},
          "execution_count": 19
        },
        {
          "output_type": "display_data",
          "data": {
            "image/png": "[encoded data removed]",
            "text/plain": [
              "<Figure size 432x288 with 1 Axes>"
            ]
          },
          "metadata": {
            "needs_background": "light"
          }
        }
      ]
    },
    {
      "cell_type": "markdown",
      "source": [
        "Let's specify the number of bins, increasing it from 10 to 25:"
      ],
      "metadata": {
        "id": "Z5MXKWV1OHQ7"
      }
    },
    {
      "cell_type": "code",
      "source": [
        "plt.hist(arr_rand, bins=25)"
      ],
      "metadata": {
        "colab": {
          "base_uri": "https://localhost:8080/",
          "height": 421
        },
        "id": "sikLSi6TOHVr",
        "outputId": "5b341aa5-4591-4828-c2e1-8c4cbefeb08a"
      },
      "execution_count": 20,
      "outputs": [
        {
          "output_type": "execute_result",
          "data": {
            "text/plain": [
              "(array([1., 0., 0., 1., 0., 1., 0., 1., 0., 0., 0., 0., 3., 0., 1., 1., 0.,\n",
              "        0., 0., 0., 0., 0., 0., 0., 1.]),\n",
              " array([0.22222051, 0.25060065, 0.27898078, 0.30736092, 0.33574105,\n",
              "        0.36412119, 0.39250132, 0.42088146, 0.4492616 , 0.47764173,\n",
              "        0.50602187, 0.534402  , 0.56278214, 0.59116227, 0.61954241,\n",
              "        0.64792255, 0.67630268, 0.70468282, 0.73306295, 0.76144309,\n",
              "        0.78982323, 0.81820336, 0.8465835 , 0.87496363, 0.90334377,\n",
              "        0.9317239 ]),\n",
              " <a list of 25 Patch objects>)"
            ]
          },
          "metadata": {},
          "execution_count": 20
        },
        {
          "output_type": "display_data",
          "data": {
            "image/png": "[encoded data removed]",
            "text/plain": [
              "<Figure size 432x288 with 1 Axes>"
            ]
          },
          "metadata": {
            "needs_background": "light"
          }
        }
      ]
    },
    {
      "cell_type": "markdown",
      "source": [
        "Gaussian distribution:"
      ],
      "metadata": {
        "id": "8iBRsp9gOhjd"
      }
    },
    {
      "cell_type": "code",
      "source": [
        "arr_rand_gaussian = np.random.randn(1000000)\n",
        "plt.hist(arr_rand_gaussian, bins=50)"
      ],
      "metadata": {
        "colab": {
          "base_uri": "https://localhost:8080/",
          "height": 646
        },
        "id": "-_svvpnTOhrX",
        "outputId": "520654d6-7ae5-4ca5-9eaa-a30a8bf5c9a4"
      },
      "execution_count": 21,
      "outputs": [
        {
          "output_type": "execute_result",
          "data": {
            "text/plain": [
              "(array([2.0000e+00, 4.0000e+00, 6.0000e+00, 1.5000e+01, 2.8000e+01,\n",
              "        6.9000e+01, 1.0700e+02, 2.0500e+02, 4.1000e+02, 7.4000e+02,\n",
              "        1.2500e+03, 2.1490e+03, 3.4750e+03, 5.4950e+03, 8.1940e+03,\n",
              "        1.2277e+04, 1.7182e+04, 2.3039e+04, 3.0610e+04, 3.9057e+04,\n",
              "        4.7181e+04, 5.5877e+04, 6.3671e+04, 6.9491e+04, 7.4092e+04,\n",
              "        7.5268e+04, 7.4613e+04, 7.0943e+04, 6.4922e+04, 5.7426e+04,\n",
              "        4.9395e+04, 4.0326e+04, 3.2141e+04, 2.4824e+04, 1.8093e+04,\n",
              "        1.3135e+04, 8.8650e+03, 5.9790e+03, 3.8740e+03, 2.4470e+03,\n",
              "        1.4050e+03, 7.7900e+02, 4.4700e+02, 2.5600e+02, 1.1900e+02,\n",
              "        6.9000e+01, 2.8000e+01, 1.4000e+01, 1.0000e+00, 5.0000e+00]),\n",
              " array([-4.84927882, -4.65981741, -4.470356  , -4.2808946 , -4.09143319,\n",
              "        -3.90197178, -3.71251038, -3.52304897, -3.33358756, -3.14412616,\n",
              "        -2.95466475, -2.76520335, -2.57574194, -2.38628053, -2.19681913,\n",
              "        -2.00735772, -1.81789631, -1.62843491, -1.4389735 , -1.24951209,\n",
              "        -1.06005069, -0.87058928, -0.68112788, -0.49166647, -0.30220506,\n",
              "        -0.11274366,  0.07671775,  0.26617916,  0.45564056,  0.64510197,\n",
              "         0.83456337,  1.02402478,  1.21348619,  1.40294759,  1.592409  ,\n",
              "         1.78187041,  1.97133181,  2.16079322,  2.35025463,  2.53971603,\n",
              "         2.72917744,  2.91863884,  3.10810025,  3.29756166,  3.48702306,\n",
              "         3.67648447,  3.86594588,  4.05540728,  4.24486869,  4.43433009,\n",
              "         4.6237915 ]),\n",
              " <a list of 50 Patch objects>)"
            ]
          },
          "metadata": {},
          "execution_count": 21
        },
        {
          "output_type": "display_data",
          "data": {
            "image/png": "[encoded data removed]",
            "text/plain": [
              "<Figure size 432x288 with 1 Axes>"
            ]
          },
          "metadata": {
            "needs_background": "light"
          }
        }
      ]
    },
    {
      "cell_type": "markdown",
      "source": [
        "Let's combine some concepts. How would one make a 2D array that counts from 0 to 99, and is 10 by 10?"
      ],
      "metadata": {
        "id": "DRFIEh_-PooM"
      }
    },
    {
      "cell_type": "code",
      "source": [
        "arr_tenbyten_count = np.arange(100).reshape(10,10)\n",
        "print(arr_tenbyten_count)"
      ],
      "metadata": {
        "colab": {
          "base_uri": "https://localhost:8080/"
        },
        "id": "hvofnoIaPoxy",
        "outputId": "f466b579-d09d-4e2e-b044-6e3c52f33a25"
      },
      "execution_count": 22,
      "outputs": [
        {
          "output_type": "stream",
          "name": "stdout",
          "text": [
            "[[ 0  1  2  3  4  5  6  7  8  9]\n",
            " [10 11 12 13 14 15 16 17 18 19]\n",
            " [20 21 22 23 24 25 26 27 28 29]\n",
            " [30 31 32 33 34 35 36 37 38 39]\n",
            " [40 41 42 43 44 45 46 47 48 49]\n",
            " [50 51 52 53 54 55 56 57 58 59]\n",
            " [60 61 62 63 64 65 66 67 68 69]\n",
            " [70 71 72 73 74 75 76 77 78 79]\n",
            " [80 81 82 83 84 85 86 87 88 89]\n",
            " [90 91 92 93 94 95 96 97 98 99]]\n"
          ]
        }
      ]
    },
    {
      "cell_type": "markdown",
      "source": [
        "Now, let's take a look into slicing.\n",
        "\n"
      ],
      "metadata": {
        "id": "S__UlKaxR5eV"
      }
    },
    {
      "cell_type": "code",
      "source": [
        "arr_slice_me = np.arange(100)\n",
        "\n",
        "arr_sliced1 = arr_slice_me[1:5]\n",
        "print(arr_sliced1)"
      ],
      "metadata": {
        "id": "82k7gy4GR5j6",
        "colab": {
          "base_uri": "https://localhost:8080/"
        },
        "outputId": "aabfc7b3-4282-4b9b-fbd8-a1e160cd3eba"
      },
      "execution_count": 23,
      "outputs": [
        {
          "output_type": "stream",
          "name": "stdout",
          "text": [
            "[1 2 3 4]\n"
          ]
        }
      ]
    },
    {
      "cell_type": "markdown",
      "source": [
        "Notice in the following, arr_sliced1 has a reference to the elements in the original array. So changing the elements in the slide array changes them in the original.\n",
        "\n",
        "For example:"
      ],
      "metadata": {
        "id": "p2fMxLx6ibnd"
      }
    },
    {
      "cell_type": "code",
      "source": [
        "arr_sliced1[0] = 100\n",
        "\n",
        "print(arr_sliced1)\n",
        "print(arr_slice_me)"
      ],
      "metadata": {
        "colab": {
          "base_uri": "https://localhost:8080/"
        },
        "id": "zv9LmXkpilBE",
        "outputId": "54246867-3dd7-4578-f6bf-ff18df8dfdff"
      },
      "execution_count": 24,
      "outputs": [
        {
          "output_type": "stream",
          "name": "stdout",
          "text": [
            "[100   2   3   4]\n",
            "[  0 100   2   3   4   5   6   7   8   9  10  11  12  13  14  15  16  17\n",
            "  18  19  20  21  22  23  24  25  26  27  28  29  30  31  32  33  34  35\n",
            "  36  37  38  39  40  41  42  43  44  45  46  47  48  49  50  51  52  53\n",
            "  54  55  56  57  58  59  60  61  62  63  64  65  66  67  68  69  70  71\n",
            "  72  73  74  75  76  77  78  79  80  81  82  83  84  85  86  87  88  89\n",
            "  90  91  92  93  94  95  96  97  98  99]\n"
          ]
        }
      ]
    },
    {
      "cell_type": "markdown",
      "source": [
        "To keep this from happening, just use .copy() when initially completing the slice.\n",
        "\n",
        "Next, let's pick every 5th element:\n",
        "\n"
      ],
      "metadata": {
        "id": "ulFY_-a_iyWR"
      }
    },
    {
      "cell_type": "code",
      "source": [
        "arr_slice_me[::5]"
      ],
      "metadata": {
        "colab": {
          "base_uri": "https://localhost:8080/"
        },
        "id": "r9fPVDz7iyjd",
        "outputId": "ff5b3373-0917-4f80-a175-a45752764b31"
      },
      "execution_count": 25,
      "outputs": [
        {
          "output_type": "execute_result",
          "data": {
            "text/plain": [
              "array([ 0,  5, 10, 15, 20, 25, 30, 35, 40, 45, 50, 55, 60, 65, 70, 75, 80,\n",
              "       85, 90, 95])"
            ]
          },
          "metadata": {},
          "execution_count": 25
        }
      ]
    },
    {
      "cell_type": "markdown",
      "source": [
        "Using a negative value will make the array in reverse:"
      ],
      "metadata": {
        "id": "5OMFGzYrjFTc"
      }
    },
    {
      "cell_type": "code",
      "source": [
        "arr_slice_me[::-5]"
      ],
      "metadata": {
        "colab": {
          "base_uri": "https://localhost:8080/"
        },
        "id": "CLnbEnDxjFLD",
        "outputId": "8f99b632-6ffb-4567-a35e-aed90ecf2a63"
      },
      "execution_count": 26,
      "outputs": [
        {
          "output_type": "execute_result",
          "data": {
            "text/plain": [
              "array([99, 94, 89, 84, 79, 74, 69, 64, 59, 54, 49, 44, 39, 34, 29, 24, 19,\n",
              "       14,  9,  4])"
            ]
          },
          "metadata": {},
          "execution_count": 26
        }
      ]
    },
    {
      "cell_type": "markdown",
      "source": [
        "How to find the index of a specific element?"
      ],
      "metadata": {
        "id": "0EyWQhiRjWS2"
      }
    },
    {
      "cell_type": "code",
      "source": [
        "index = np.argwhere(arr_slice_me == 100)[0][0]\n",
        "print(index)"
      ],
      "metadata": {
        "colab": {
          "base_uri": "https://localhost:8080/"
        },
        "id": "MIxxyYfzjWbm",
        "outputId": "7bf4ec65-4435-4d60-d885-29c5e539189b"
      },
      "execution_count": 27,
      "outputs": [
        {
          "output_type": "stream",
          "name": "stdout",
          "text": [
            "1\n"
          ]
        }
      ]
    },
    {
      "cell_type": "markdown",
      "source": [
        "Now we can directly use that value to change the element value in the array:"
      ],
      "metadata": {
        "id": "eF7u1806kMk2"
      }
    },
    {
      "cell_type": "code",
      "source": [
        "arr_slice_me[index] = 1000\n",
        "print(arr_slice_me)"
      ],
      "metadata": {
        "id": "MZxQmiaskMrU",
        "colab": {
          "base_uri": "https://localhost:8080/"
        },
        "outputId": "f1b9718f-6be8-4060-a05a-b998d8f65028"
      },
      "execution_count": 28,
      "outputs": [
        {
          "output_type": "stream",
          "name": "stdout",
          "text": [
            "[   0 1000    2    3    4    5    6    7    8    9   10   11   12   13\n",
            "   14   15   16   17   18   19   20   21   22   23   24   25   26   27\n",
            "   28   29   30   31   32   33   34   35   36   37   38   39   40   41\n",
            "   42   43   44   45   46   47   48   49   50   51   52   53   54   55\n",
            "   56   57   58   59   60   61   62   63   64   65   66   67   68   69\n",
            "   70   71   72   73   74   75   76   77   78   79   80   81   82   83\n",
            "   84   85   86   87   88   89   90   91   92   93   94   95   96   97\n",
            "   98   99]\n"
          ]
        }
      ]
    },
    {
      "cell_type": "markdown",
      "source": [
        "To create a 2D array of random integers from 1 to 10:"
      ],
      "metadata": {
        "id": "CmLmLQBQz8HJ"
      }
    },
    {
      "cell_type": "code",
      "source": [
        "arr_2D_rand = np.round(10*np.random.rand(5,5))\n",
        "print(arr_2D_rand)"
      ],
      "metadata": {
        "colab": {
          "base_uri": "https://localhost:8080/"
        },
        "id": "LwAn9ApYz8Ox",
        "outputId": "bf3a7640-5ee8-4e9f-c975-60b20e71b33e"
      },
      "execution_count": 29,
      "outputs": [
        {
          "output_type": "stream",
          "name": "stdout",
          "text": [
            "[[9. 9. 0. 7. 3.]\n",
            " [6. 2. 0. 8. 5.]\n",
            " [9. 5. 2. 4. 7.]\n",
            " [3. 1. 1. 4. 9.]\n",
            " [9. 5. 2. 6. 3.]]\n"
          ]
        }
      ]
    },
    {
      "cell_type": "markdown",
      "source": [
        "To access an entire row, and all the columns:"
      ],
      "metadata": {
        "id": "qHIni2690ok2"
      }
    },
    {
      "cell_type": "code",
      "source": [
        "arr_2D_rand[1,:]"
      ],
      "metadata": {
        "colab": {
          "base_uri": "https://localhost:8080/"
        },
        "id": "QxCdRynt0ot3",
        "outputId": "dbb5f952-0aaf-4c8f-dcc5-835a463f4be0"
      },
      "execution_count": 30,
      "outputs": [
        {
          "output_type": "execute_result",
          "data": {
            "text/plain": [
              "array([6., 2., 0., 8., 5.])"
            ]
          },
          "metadata": {},
          "execution_count": 30
        }
      ]
    },
    {
      "cell_type": "markdown",
      "source": [
        "To access a column, and all the rows:"
      ],
      "metadata": {
        "id": "6S2cERES4x4o"
      }
    },
    {
      "cell_type": "code",
      "source": [
        "arr_2D_rand[:,1]"
      ],
      "metadata": {
        "colab": {
          "base_uri": "https://localhost:8080/"
        },
        "id": "MkEb0PPB4x85",
        "outputId": "81fa9675-2fab-49ec-fda6-b51bd7b4a404"
      },
      "execution_count": 31,
      "outputs": [
        {
          "output_type": "execute_result",
          "data": {
            "text/plain": [
              "array([9., 2., 5., 1., 5.])"
            ]
          },
          "metadata": {},
          "execution_count": 31
        }
      ]
    },
    {
      "cell_type": "markdown",
      "source": [
        "To create a sub-array, specify the top-left and bottom-right corner:"
      ],
      "metadata": {
        "id": "oLt4gu9i4_Js"
      }
    },
    {
      "cell_type": "code",
      "source": [
        "arr_2D_rand[1:3,2:4]"
      ],
      "metadata": {
        "colab": {
          "base_uri": "https://localhost:8080/"
        },
        "id": "rn2ZZXHf4_Py",
        "outputId": "2d203fde-45cb-425f-fc6b-4adcfe098653"
      },
      "execution_count": 32,
      "outputs": [
        {
          "output_type": "execute_result",
          "data": {
            "text/plain": [
              "array([[0., 8.],\n",
              "       [2., 4.]])"
            ]
          },
          "metadata": {},
          "execution_count": 32
        }
      ]
    },
    {
      "cell_type": "markdown",
      "source": [
        "We can also very easily transpose the array:"
      ],
      "metadata": {
        "id": "T053a3HsIZaA"
      }
    },
    {
      "cell_type": "code",
      "source": [
        "arr_2D_rand.T"
      ],
      "metadata": {
        "colab": {
          "base_uri": "https://localhost:8080/"
        },
        "id": "__AnxLO1IZhh",
        "outputId": "f21ef782-334a-4472-e2cb-fa609d93b11e"
      },
      "execution_count": 33,
      "outputs": [
        {
          "output_type": "execute_result",
          "data": {
            "text/plain": [
              "array([[9., 6., 9., 3., 9.],\n",
              "       [9., 2., 5., 1., 5.],\n",
              "       [0., 0., 2., 1., 2.],\n",
              "       [7., 8., 4., 4., 6.],\n",
              "       [3., 5., 7., 9., 3.]])"
            ]
          },
          "metadata": {},
          "execution_count": 33
        }
      ]
    },
    {
      "cell_type": "markdown",
      "source": [
        "Let's further take a look at some of the linear algebra stuff we can do:"
      ],
      "metadata": {
        "id": "HxgX5sMTIhie"
      }
    },
    {
      "cell_type": "code",
      "source": [
        "import numpy.linalg as la"
      ],
      "metadata": {
        "id": "xuo0wRPsIhrQ"
      },
      "execution_count": 34,
      "outputs": []
    },
    {
      "cell_type": "markdown",
      "source": [
        "We can take the inverse of an array:"
      ],
      "metadata": {
        "id": "gYOUKrI1IvgI"
      }
    },
    {
      "cell_type": "code",
      "source": [
        "la.inv(arr_2D_rand)"
      ],
      "metadata": {
        "colab": {
          "base_uri": "https://localhost:8080/"
        },
        "id": "1nK-KXy_Ivpr",
        "outputId": "b9d53711-a61d-420a-dc0b-c388207650e0"
      },
      "execution_count": 35,
      "outputs": [
        {
          "output_type": "execute_result",
          "data": {
            "text/plain": [
              "array([[-0.11373874,  0.25      ,  0.42736486, -0.3490991 , -0.25281532],\n",
              "       [ 0.19932432, -0.25      , -0.20439189,  0.19594595,  0.10641892],\n",
              "       [-0.08783784, -0.5       , -0.57094595,  0.47297297,  0.83445946],\n",
              "       [ 0.02702703,  0.        , -0.32432432,  0.16216216,  0.24324324],\n",
              "       [ 0.01351351, -0.        ,  0.08783784,  0.08108108, -0.12837838]])"
            ]
          },
          "metadata": {},
          "execution_count": 35
        }
      ]
    },
    {
      "cell_type": "markdown",
      "source": [
        "Say we want each column of an array to be sorted individually:"
      ],
      "metadata": {
        "id": "NVMhL7shJUjb"
      }
    },
    {
      "cell_type": "code",
      "source": [
        "arr_2D_rand.sort(axis=0)\n",
        "print(arr_2D_rand)"
      ],
      "metadata": {
        "colab": {
          "base_uri": "https://localhost:8080/"
        },
        "id": "KlqcODMUJUvx",
        "outputId": "2f155483-62ac-4ff1-d935-1e4dc2d8976e"
      },
      "execution_count": 36,
      "outputs": [
        {
          "output_type": "stream",
          "name": "stdout",
          "text": [
            "[[3. 1. 0. 4. 3.]\n",
            " [6. 2. 0. 4. 3.]\n",
            " [9. 5. 1. 6. 5.]\n",
            " [9. 5. 2. 7. 7.]\n",
            " [9. 9. 2. 8. 9.]]\n"
          ]
        }
      ]
    },
    {
      "cell_type": "markdown",
      "source": [
        "Now say we wanted to sort every row individually:"
      ],
      "metadata": {
        "id": "0WkqaLyzJ88R"
      }
    },
    {
      "cell_type": "code",
      "source": [
        "arr_2D_rand.sort(axis=1)\n",
        "print(arr_2D_rand)"
      ],
      "metadata": {
        "colab": {
          "base_uri": "https://localhost:8080/"
        },
        "id": "Vpvu5l8qJ8q-",
        "outputId": "e946a52e-1fb3-46cf-d054-e5032ea54a3c"
      },
      "execution_count": 37,
      "outputs": [
        {
          "output_type": "stream",
          "name": "stdout",
          "text": [
            "[[0. 1. 3. 3. 4.]\n",
            " [0. 2. 3. 4. 6.]\n",
            " [1. 5. 5. 6. 9.]\n",
            " [2. 5. 7. 7. 9.]\n",
            " [2. 8. 9. 9. 9.]]\n"
          ]
        }
      ]
    }
  ]
}