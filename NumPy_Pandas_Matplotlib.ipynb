{
  "nbformat": 4,
  "nbformat_minor": 0,
  "metadata": {
    "colab": {
      "name": "NumPy-Pandas-Matplotlib.ipynb",
      "provenance": []
    },
    "kernelspec": {
      "name": "python3",
      "display_name": "Python 3"
    },
    "language_info": {
      "name": "python"
    }
  },
  "cells": [
    {
      "cell_type": "markdown",
      "source": [
        "# A Thorough Examination of the NumPy, Pandas, and Matplotlib Libraries\n"
      ],
      "metadata": {
        "id": "lrIrNTzjq-q-"
      }
    },
    {
      "cell_type": "markdown",
      "source": [
        "# NumPy\n",
        "<h2>Why use NumPy?</h2>\n",
        "\n",
        "- In one statement, it is much faster.\n",
        "- In Python, a list is allowed to be a collection many various data objects.\n",
        "- NumPy arrays are essentially a list with elements restricted to the same type. In fact, NumPy arrays cannot store heterogenous data. \n",
        "- Functions applied to Python lists require meta-data for each element, specifying it's type, regardless of if they are all the same.\n",
        "- NumPy arrays differ from a traditional list in that we do not need to save information about each individual element. It is known that each element will be the same. Because of this, functions written for NumPy arrays are then much faster.\n",
        "- NumPy's power becomes evident when working with large quantities of numeric data."
      ],
      "metadata": {
        "id": "T9MxhFGBtFrj"
      }
    },
    {
      "cell_type": "markdown",
      "source": [
        "First, import NumPy"
      ],
      "metadata": {
        "id": "xBEQ5ywe5aM0"
      }
    },
    {
      "cell_type": "code",
      "source": [
        "import numpy as np"
      ],
      "metadata": {
        "id": "pn8eLRIJtwhs"
      },
      "execution_count": 1,
      "outputs": []
    },
    {
      "cell_type": "markdown",
      "source": [
        "NumPy arrays can be made using a list or a tuple."
      ],
      "metadata": {
        "id": "WNt_AW-_5hBx"
      }
    },
    {
      "cell_type": "code",
      "source": [
        "arr1 = np.array([1, 2, 3, 4, 5])\n",
        "arr2 = np.array((1, 6, 3, 4, 9))\n",
        "\n",
        "print(arr1)\n",
        "print(arr2)"
      ],
      "metadata": {
        "colab": {
          "base_uri": "https://localhost:8080/"
        },
        "id": "pO983sUv5A3P",
        "outputId": "44e014ba-e7b9-47a9-9aef-1dd3ef84431d"
      },
      "execution_count": 2,
      "outputs": [
        {
          "output_type": "stream",
          "name": "stdout",
          "text": [
            "[1 2 3 4 5]\n",
            "[1 6 3 4 9]\n"
          ]
        }
      ]
    },
    {
      "cell_type": "markdown",
      "source": [
        "What type are these objects?"
      ],
      "metadata": {
        "id": "GGwjre5t5nVO"
      }
    },
    {
      "cell_type": "code",
      "source": [
        "print(type(arr1))\n",
        "print(type(arr2))"
      ],
      "metadata": {
        "colab": {
          "base_uri": "https://localhost:8080/"
        },
        "id": "dv3Wqp3f5nwL",
        "outputId": "f113ad72-48a0-487c-a059-5674d3186683"
      },
      "execution_count": 3,
      "outputs": [
        {
          "output_type": "stream",
          "name": "stdout",
          "text": [
            "<class 'numpy.ndarray'>\n",
            "<class 'numpy.ndarray'>\n"
          ]
        }
      ]
    },
    {
      "cell_type": "markdown",
      "source": [
        "Note that the data type is automatically inferred when the NumPy array is made. However, the array data type can manually be assigned."
      ],
      "metadata": {
        "id": "ps1p81K36sFA"
      }
    },
    {
      "cell_type": "code",
      "source": [
        "arr3 = np.array([1, 2, 3, 4], dtype='i')    # Integer\n",
        "arr4 = np.array([1, 2, 3, 4], dtype='f')    # Float\n",
        "arr5 = np.array([1, 2, 3, 4], dtype=np.str) # String\n",
        "\n",
        "# Data type list: https://numpy.org/doc/stable/user/basics.types.html#\n",
        "\n",
        "print(arr3)\n",
        "print(arr4)\n",
        "print(arr5)"
      ],
      "metadata": {
        "colab": {
          "base_uri": "https://localhost:8080/"
        },
        "id": "grJ68lgn7YCA",
        "outputId": "e44bce0e-7a44-49ba-fb22-4765d2cd5041"
      },
      "execution_count": 4,
      "outputs": [
        {
          "output_type": "stream",
          "name": "stdout",
          "text": [
            "[1 2 3 4]\n",
            "[1. 2. 3. 4.]\n",
            "['1' '2' '3' '4']\n"
          ]
        }
      ]
    },
    {
      "cell_type": "markdown",
      "source": [
        "Multi-dimensional NumPy arrays are also possible. Below, this is done with a tuples and lists."
      ],
      "metadata": {
        "id": "e7aK77aG9_oM"
      }
    },
    {
      "cell_type": "code",
      "source": [
        "arr1_2D = np.array([[1, 2, 3, 4], [5, 6, 7, 8]])\n",
        "arr2_2D = np.array(((1, 2, 3, 4), (5, 6, 7, 8)))\n",
        "\n",
        "print(arr1_2D)\n",
        "print(arr2_2D)"
      ],
      "metadata": {
        "colab": {
          "base_uri": "https://localhost:8080/"
        },
        "id": "E4pZI-5Z7wjg",
        "outputId": "110615b4-efc9-47cb-a19e-03535f59e4f5"
      },
      "execution_count": 5,
      "outputs": [
        {
          "output_type": "stream",
          "name": "stdout",
          "text": [
            "[[1 2 3 4]\n",
            " [5 6 7 8]]\n",
            "[[1 2 3 4]\n",
            " [5 6 7 8]]\n"
          ]
        }
      ]
    },
    {
      "cell_type": "markdown",
      "source": [
        "Notice how NumPy nicely formats the arrays into a 2D representation on its own.\n",
        "\n",
        "Next, let's access the elements in the 2D array.\n",
        "For sake of the example, let's access the 1 and the 8:"
      ],
      "metadata": {
        "id": "-9m4Ci9L_7Cw"
      }
    },
    {
      "cell_type": "code",
      "source": [
        "print(arr1_2D[0, 0])\n",
        "print(arr2_2D[1, 3])"
      ],
      "metadata": {
        "colab": {
          "base_uri": "https://localhost:8080/"
        },
        "id": "fNtXhhsjAY0z",
        "outputId": "d10cf6f9-0d79-4518-9ccd-0262a95252ab"
      },
      "execution_count": 6,
      "outputs": [
        {
          "output_type": "stream",
          "name": "stdout",
          "text": [
            "1\n",
            "8\n"
          ]
        }
      ]
    },
    {
      "cell_type": "markdown",
      "source": [
        "The number of dimensions can be expanded, up to a hard-coded limit of 32 dimensions.\n",
        "\n",
        "Here is one example of a 3D array:"
      ],
      "metadata": {
        "id": "mnJVfaUsBbdi"
      }
    },
    {
      "cell_type": "code",
      "source": [
        "arr1_3D = np.array([[[1, 2, 3, 4], [5, 6, 7, 8]], [[9, 10, 11, 12], [13, 14, 15, 16]]])\n",
        "\n",
        "print(arr1_3D)"
      ],
      "metadata": {
        "colab": {
          "base_uri": "https://localhost:8080/"
        },
        "id": "Vgu29VGSBtYm",
        "outputId": "915dc433-2d4b-4968-dfa6-37fbeb5f1ecb"
      },
      "execution_count": 7,
      "outputs": [
        {
          "output_type": "stream",
          "name": "stdout",
          "text": [
            "[[[ 1  2  3  4]\n",
            "  [ 5  6  7  8]]\n",
            "\n",
            " [[ 9 10 11 12]\n",
            "  [13 14 15 16]]]\n"
          ]
        }
      ]
    },
    {
      "cell_type": "markdown",
      "source": [
        "Given an arbitrary array, one can analyze the array in different ways.\n",
        "\n",
        "Number of dimensions:"
      ],
      "metadata": {
        "id": "lK0BCN_uCGbz"
      }
    },
    {
      "cell_type": "code",
      "source": [
        "arr1_3D.ndim"
      ],
      "metadata": {
        "colab": {
          "base_uri": "https://localhost:8080/"
        },
        "id": "yXDMmuAfC23t",
        "outputId": "255967a3-6780-45ab-a7d3-e40806ef04ea"
      },
      "execution_count": 8,
      "outputs": [
        {
          "output_type": "execute_result",
          "data": {
            "text/plain": [
              "3"
            ]
          },
          "metadata": {},
          "execution_count": 8
        }
      ]
    },
    {
      "cell_type": "markdown",
      "source": [
        "To see the shape of the array:"
      ],
      "metadata": {
        "id": "pL3iwia2C98A"
      }
    },
    {
      "cell_type": "code",
      "source": [
        "arr1_3D.shape"
      ],
      "metadata": {
        "colab": {
          "base_uri": "https://localhost:8080/"
        },
        "id": "H2o-F2dYC5pS",
        "outputId": "e73167b3-2de1-4160-9f97-18d87b6c5fb9"
      },
      "execution_count": 9,
      "outputs": [
        {
          "output_type": "execute_result",
          "data": {
            "text/plain": [
              "(2, 2, 4)"
            ]
          },
          "metadata": {},
          "execution_count": 9
        }
      ]
    },
    {
      "cell_type": "markdown",
      "source": [
        "To see the shape of a particular dimension:"
      ],
      "metadata": {
        "id": "D-MMqJUdD9kI"
      }
    },
    {
      "cell_type": "code",
      "source": [
        "print(arr1_3D[0].shape)    # The shape of the first 2D array\n",
        "print(arr1_3D[0, 1].shape) # The shape of the first 2D array's second 1D Array."
      ],
      "metadata": {
        "colab": {
          "base_uri": "https://localhost:8080/"
        },
        "id": "7Eh7iy6HEAzg",
        "outputId": "b9d4a734-aec8-4dbf-b582-a0d340a82cbd"
      },
      "execution_count": 10,
      "outputs": [
        {
          "output_type": "stream",
          "name": "stdout",
          "text": [
            "(2, 4)\n",
            "(4,)\n"
          ]
        }
      ]
    },
    {
      "cell_type": "markdown",
      "source": [
        "The number of bytes can also be checked:"
      ],
      "metadata": {
        "id": "sxRLT8zqENx6"
      }
    },
    {
      "cell_type": "code",
      "source": [
        "arr1_3D.nbytes"
      ],
      "metadata": {
        "colab": {
          "base_uri": "https://localhost:8080/"
        },
        "id": "lfcHB3tzFPYn",
        "outputId": "990a76d1-bdec-427f-d42f-2f10c498b4f5"
      },
      "execution_count": 11,
      "outputs": [
        {
          "output_type": "execute_result",
          "data": {
            "text/plain": [
              "128"
            ]
          },
          "metadata": {},
          "execution_count": 11
        }
      ]
    },
    {
      "cell_type": "markdown",
      "source": [
        "There are many more, this was just a few of them.\n",
        "\n",
        "NumPy also has many ways to create arrays.\n",
        "\n",
        "To create an array of all zeros:\n"
      ],
      "metadata": {
        "id": "16d16wzBFUYl"
      }
    },
    {
      "cell_type": "code",
      "source": [
        "arr_zeros = np.zeros(100)\n",
        "print(arr_zeros)\n",
        "\n",
        "arr_zeros_2D = np.zeros([100, 100])\n",
        "print(arr_zeros_2D)"
      ],
      "metadata": {
        "colab": {
          "base_uri": "https://localhost:8080/"
        },
        "id": "aWHQB6xmFwg3",
        "outputId": "91e92a70-5dba-44a3-ebd6-bd13284bcab6"
      },
      "execution_count": 12,
      "outputs": [
        {
          "output_type": "stream",
          "name": "stdout",
          "text": [
            "[0. 0. 0. 0. 0. 0. 0. 0. 0. 0. 0. 0. 0. 0. 0. 0. 0. 0. 0. 0. 0. 0. 0. 0.\n",
            " 0. 0. 0. 0. 0. 0. 0. 0. 0. 0. 0. 0. 0. 0. 0. 0. 0. 0. 0. 0. 0. 0. 0. 0.\n",
            " 0. 0. 0. 0. 0. 0. 0. 0. 0. 0. 0. 0. 0. 0. 0. 0. 0. 0. 0. 0. 0. 0. 0. 0.\n",
            " 0. 0. 0. 0. 0. 0. 0. 0. 0. 0. 0. 0. 0. 0. 0. 0. 0. 0. 0. 0. 0. 0. 0. 0.\n",
            " 0. 0. 0. 0.]\n",
            "[[0. 0. 0. ... 0. 0. 0.]\n",
            " [0. 0. 0. ... 0. 0. 0.]\n",
            " [0. 0. 0. ... 0. 0. 0.]\n",
            " ...\n",
            " [0. 0. 0. ... 0. 0. 0.]\n",
            " [0. 0. 0. ... 0. 0. 0.]\n",
            " [0. 0. 0. ... 0. 0. 0.]]\n"
          ]
        }
      ]
    },
    {
      "cell_type": "markdown",
      "source": [
        "To create an array that spans throughout a range:"
      ],
      "metadata": {
        "id": "UEw_Py7zGIBI"
      }
    },
    {
      "cell_type": "code",
      "source": [
        "arr_range = np.arange(100)\n",
        "print('Stepping by ones:\\n', arr_range)\n",
        "\n",
        "arr_range_bounds = np.arange(10, 100)\n",
        "print(\"Bounded from 10 to 100:\\n\", arr_range_bounds)\n",
        "\n",
        "arr_range_fivestep = np.arange(start=0, stop=101, step=5)\n",
        "print('Stepping by fives:\\n', arr_range_fivestep)\n",
        "\n",
        "arr_range_fivestep_reverse = np.arange(start=0, stop=-101, step=-5)\n",
        "print('Stepping by fives in reverse:\\n', arr_range_fivestep_reverse)"
      ],
      "metadata": {
        "colab": {
          "base_uri": "https://localhost:8080/"
        },
        "id": "6numcs57GQUs",
        "outputId": "e564b507-d959-4ce8-d421-71b05e786055"
      },
      "execution_count": 13,
      "outputs": [
        {
          "output_type": "stream",
          "name": "stdout",
          "text": [
            "Stepping by ones:\n",
            " [ 0  1  2  3  4  5  6  7  8  9 10 11 12 13 14 15 16 17 18 19 20 21 22 23\n",
            " 24 25 26 27 28 29 30 31 32 33 34 35 36 37 38 39 40 41 42 43 44 45 46 47\n",
            " 48 49 50 51 52 53 54 55 56 57 58 59 60 61 62 63 64 65 66 67 68 69 70 71\n",
            " 72 73 74 75 76 77 78 79 80 81 82 83 84 85 86 87 88 89 90 91 92 93 94 95\n",
            " 96 97 98 99]\n",
            "Bounded from 10 to 100:\n",
            " [10 11 12 13 14 15 16 17 18 19 20 21 22 23 24 25 26 27 28 29 30 31 32 33\n",
            " 34 35 36 37 38 39 40 41 42 43 44 45 46 47 48 49 50 51 52 53 54 55 56 57\n",
            " 58 59 60 61 62 63 64 65 66 67 68 69 70 71 72 73 74 75 76 77 78 79 80 81\n",
            " 82 83 84 85 86 87 88 89 90 91 92 93 94 95 96 97 98 99]\n",
            "Stepping by fives:\n",
            " [  0   5  10  15  20  25  30  35  40  45  50  55  60  65  70  75  80  85\n",
            "  90  95 100]\n",
            "Stepping by fives in reverse:\n",
            " [   0   -5  -10  -15  -20  -25  -30  -35  -40  -45  -50  -55  -60  -65\n",
            "  -70  -75  -80  -85  -90  -95 -100]\n"
          ]
        }
      ]
    },
    {
      "cell_type": "markdown",
      "source": [
        "To create an array that is a random permutation of elements:"
      ],
      "metadata": {
        "id": "zznXLpXcHUn8"
      }
    },
    {
      "cell_type": "code",
      "source": [
        "arr_rand_perm = np.random.permutation(np.arange(10))\n",
        "print(arr_rand_perm)"
      ],
      "metadata": {
        "colab": {
          "base_uri": "https://localhost:8080/"
        },
        "id": "VUxePramHUtx",
        "outputId": "4c8d3d43-7aa6-4137-9dd0-58e5bac0d8a7"
      },
      "execution_count": 14,
      "outputs": [
        {
          "output_type": "stream",
          "name": "stdout",
          "text": [
            "[7 4 8 6 2 0 1 5 3 9]\n"
          ]
        }
      ]
    },
    {
      "cell_type": "markdown",
      "source": [
        "Notice how the above used \"random\". Random can be used for many things.\n",
        "\n",
        "For example, creating a random integer within a range (0 inclusive and 100 exclusive):"
      ],
      "metadata": {
        "id": "vp2zsddUKu-l"
      }
    },
    {
      "cell_type": "code",
      "source": [
        "np.random.randint(0, 100)"
      ],
      "metadata": {
        "colab": {
          "base_uri": "https://localhost:8080/"
        },
        "id": "et4WJNFwKuo7",
        "outputId": "96a320ca-c1a4-438a-8159-c7648ad150fb"
      },
      "execution_count": 15,
      "outputs": [
        {
          "output_type": "execute_result",
          "data": {
            "text/plain": [
              "19"
            ]
          },
          "metadata": {},
          "execution_count": 15
        }
      ]
    },
    {
      "cell_type": "markdown",
      "source": [
        "Existing arrays can also be reshaped.\n",
        "\n",
        "For example, if we have a 2D array, we can append each array of the 2D array to make it 1D:"
      ],
      "metadata": {
        "id": "2GisDLH_LXqA"
      }
    },
    {
      "cell_type": "code",
      "source": [
        "arr_2D = np.array([[1, 2, 3, 4, 5], [6, 7, 8, 9, 10]])\n",
        "arr_1D_reshape = np.reshape(arr_2D, (10))\n",
        "print(arr_1D_reshape)"
      ],
      "metadata": {
        "colab": {
          "base_uri": "https://localhost:8080/"
        },
        "id": "36EiHWcRLXvg",
        "outputId": "14ced5b7-a372-4b60-a2c6-38881be0a2fa"
      },
      "execution_count": 16,
      "outputs": [
        {
          "output_type": "stream",
          "name": "stdout",
          "text": [
            "[ 1  2  3  4  5  6  7  8  9 10]\n"
          ]
        }
      ]
    },
    {
      "cell_type": "markdown",
      "source": [
        "This can be done in reverse as well:"
      ],
      "metadata": {
        "id": "Z2j9340ZMZei"
      }
    },
    {
      "cell_type": "code",
      "source": [
        "arr_2D_reshape = np.reshape(arr_1D_reshape, [2, 5])\n",
        "print('1D of 10 elements into a 2D array of 2 arrays, each containing 5 elements:\\n',\n",
        "      arr_2D_reshape)\n",
        "\n",
        "arr_2D_reshape = np.reshape(arr_1D_reshape, [5, 2])\n",
        "print('1D of 10 elements into a 2D array of 5 arrays, each containing 2 elements:\\n',\n",
        "      arr_2D_reshape)"
      ],
      "metadata": {
        "colab": {
          "base_uri": "https://localhost:8080/"
        },
        "id": "pp9D3lXsMbJF",
        "outputId": "3323a1ec-5763-4509-e667-741f3b7961c8"
      },
      "execution_count": 17,
      "outputs": [
        {
          "output_type": "stream",
          "name": "stdout",
          "text": [
            "1D of 10 elements into a 2D array of 2 arrays, each containing 5 elements:\n",
            " [[ 1  2  3  4  5]\n",
            " [ 6  7  8  9 10]]\n",
            "1D of 10 elements into a 2D array of 5 arrays, each containing 2 elements:\n",
            " [[ 1  2]\n",
            " [ 3  4]\n",
            " [ 5  6]\n",
            " [ 7  8]\n",
            " [ 9 10]]\n"
          ]
        }
      ]
    },
    {
      "cell_type": "markdown",
      "source": [
        "Let's create an array of size 100, with random floats from 0 to 1:"
      ],
      "metadata": {
        "id": "obkUd53zNcnE"
      }
    },
    {
      "cell_type": "code",
      "source": [
        "arr_rand = np.random.rand(10)\n",
        "print(\"1D random array from 0 to 1, 10 long:\\n\", arr_rand)\n",
        "\n",
        "arr_rand_2D = np.random.rand(5, 5)\n",
        "print(\"2D random array from 0 to 1, 5 by 5:\\n\", arr_rand_2D)"
      ],
      "metadata": {
        "colab": {
          "base_uri": "https://localhost:8080/"
        },
        "id": "XirqMNHFNcyY",
        "outputId": "d963becc-40a5-46c4-bb63-9459bfedc8a0"
      },
      "execution_count": 18,
      "outputs": [
        {
          "output_type": "stream",
          "name": "stdout",
          "text": [
            "1D random array from 0 to 1, 10 long:\n",
            " [0.98811072 0.50661821 0.89178461 0.81627227 0.61897777 0.15922569\n",
            " 0.25677894 0.85563742 0.94645517 0.51400746]\n",
            "2D random array from 0 to 1, 5 by 5:\n",
            " [[0.05403549 0.20624362 0.47712391 0.20151834 0.46835225]\n",
            " [0.68935058 0.34805236 0.10076342 0.12490239 0.63798994]\n",
            " [0.48335513 0.35224331 0.02933667 0.05477032 0.84631684]\n",
            " [0.81681309 0.16167932 0.86137796 0.6852921  0.39496612]\n",
            " [0.31822571 0.35347636 0.00725647 0.42216902 0.33855884]]\n"
          ]
        }
      ]
    },
    {
      "cell_type": "markdown",
      "source": [
        "Let's sneak peak at what the distribution looks like:"
      ],
      "metadata": {
        "id": "qyxot4hlN8yn"
      }
    },
    {
      "cell_type": "code",
      "source": [
        "import matplotlib.pyplot as plt\n",
        "\n",
        "plt.hist(arr_rand)"
      ],
      "metadata": {
        "colab": {
          "base_uri": "https://localhost:8080/",
          "height": 352
        },
        "id": "W-EZMYz1N9DV",
        "outputId": "cf093f9b-87d7-497d-bd1f-ab0ef3feed51"
      },
      "execution_count": 19,
      "outputs": [
        {
          "output_type": "execute_result",
          "data": {
            "text/plain": [
              "(array([1., 1., 0., 0., 2., 1., 0., 1., 2., 2.]),\n",
              " array([0.15922569, 0.2421142 , 0.3250027 , 0.4078912 , 0.49077971,\n",
              "        0.57366821, 0.65655671, 0.73944521, 0.82233372, 0.90522222,\n",
              "        0.98811072]),\n",
              " <a list of 10 Patch objects>)"
            ]
          },
          "metadata": {},
          "execution_count": 19
        },
        {
          "output_type": "display_data",
          "data": {
            "image/png": "[encoded data removed]",
            "text/plain": [
              "<Figure size 432x288 with 1 Axes>"
            ]
          },
          "metadata": {
            "needs_background": "light"
          }
        }
      ]
    },
    {
      "cell_type": "markdown",
      "source": [
        "Let's specify the number of bins, increasing it from 10 to 25:"
      ],
      "metadata": {
        "id": "Z5MXKWV1OHQ7"
      }
    },
    {
      "cell_type": "code",
      "source": [
        "plt.hist(arr_rand, bins=25)"
      ],
      "metadata": {
        "colab": {
          "base_uri": "https://localhost:8080/",
          "height": 421
        },
        "id": "sikLSi6TOHVr",
        "outputId": "3ccdebb8-06a8-4aba-fbb5-0875c1c50f27"
      },
      "execution_count": 20,
      "outputs": [
        {
          "output_type": "execute_result",
          "data": {
            "text/plain": [
              "(array([1., 0., 1., 0., 0., 0., 0., 0., 0., 0., 2., 0., 0., 1., 0., 0., 0.,\n",
              "        0., 0., 1., 0., 1., 1., 1., 1.]),\n",
              " array([0.15922569, 0.19238109, 0.2255365 , 0.2586919 , 0.2918473 ,\n",
              "        0.3250027 , 0.3581581 , 0.3913135 , 0.4244689 , 0.4576243 ,\n",
              "        0.49077971, 0.52393511, 0.55709051, 0.59024591, 0.62340131,\n",
              "        0.65655671, 0.68971211, 0.72286751, 0.75602292, 0.78917832,\n",
              "        0.82233372, 0.85548912, 0.88864452, 0.92179992, 0.95495532,\n",
              "        0.98811072]),\n",
              " <a list of 25 Patch objects>)"
            ]
          },
          "metadata": {},
          "execution_count": 20
        },
        {
          "output_type": "display_data",
          "data": {
            "image/png": "[encoded data removed]",
            "text/plain": [
              "<Figure size 432x288 with 1 Axes>"
            ]
          },
          "metadata": {
            "needs_background": "light"
          }
        }
      ]
    },
    {
      "cell_type": "markdown",
      "source": [
        "Gaussian distribution:"
      ],
      "metadata": {
        "id": "8iBRsp9gOhjd"
      }
    },
    {
      "cell_type": "code",
      "source": [
        "arr_rand_gaussian = np.random.randn(1000000)\n",
        "plt.hist(arr_rand_gaussian, bins=50)"
      ],
      "metadata": {
        "colab": {
          "base_uri": "https://localhost:8080/",
          "height": 647
        },
        "id": "-_svvpnTOhrX",
        "outputId": "ce0a5d8b-d18c-4774-ceb2-2136deb7bf2e"
      },
      "execution_count": 21,
      "outputs": [
        {
          "output_type": "execute_result",
          "data": {
            "text/plain": [
              "(array([2.0000e+00, 0.0000e+00, 5.0000e+00, 7.0000e+00, 2.3000e+01,\n",
              "        5.1000e+01, 1.1000e+02, 2.6800e+02, 4.7300e+02, 7.9400e+02,\n",
              "        1.4660e+03, 2.4260e+03, 4.0520e+03, 6.4020e+03, 9.6150e+03,\n",
              "        1.4289e+04, 1.9946e+04, 2.7231e+04, 3.5553e+04, 4.4346e+04,\n",
              "        5.4171e+04, 6.2255e+04, 6.9725e+04, 7.5170e+04, 7.8123e+04,\n",
              "        7.7531e+04, 7.4605e+04, 6.8410e+04, 6.1394e+04, 5.1802e+04,\n",
              "        4.3504e+04, 3.3964e+04, 2.5866e+04, 1.8811e+04, 1.3527e+04,\n",
              "        9.2600e+03, 5.9500e+03, 3.7820e+03, 2.2800e+03, 1.2890e+03,\n",
              "        7.2200e+02, 3.9100e+02, 1.9500e+02, 1.2100e+02, 4.9000e+01,\n",
              "        2.2000e+01, 9.0000e+00, 8.0000e+00, 2.0000e+00, 3.0000e+00]),\n",
              " array([-4.88699609, -4.69088438, -4.49477267, -4.29866096, -4.10254925,\n",
              "        -3.90643754, -3.71032583, -3.51421412, -3.31810241, -3.1219907 ,\n",
              "        -2.92587899, -2.72976728, -2.53365558, -2.33754387, -2.14143216,\n",
              "        -1.94532045, -1.74920874, -1.55309703, -1.35698532, -1.16087361,\n",
              "        -0.9647619 , -0.76865019, -0.57253848, -0.37642677, -0.18031506,\n",
              "         0.01579665,  0.21190836,  0.40802007,  0.60413177,  0.80024348,\n",
              "         0.99635519,  1.1924669 ,  1.38857861,  1.58469032,  1.78080203,\n",
              "         1.97691374,  2.17302545,  2.36913716,  2.56524887,  2.76136058,\n",
              "         2.95747229,  3.153584  ,  3.34969571,  3.54580742,  3.74191912,\n",
              "         3.93803083,  4.13414254,  4.33025425,  4.52636596,  4.72247767,\n",
              "         4.91858938]),\n",
              " <a list of 50 Patch objects>)"
            ]
          },
          "metadata": {},
          "execution_count": 21
        },
        {
          "output_type": "display_data",
          "data": {
            "image/png": "[encoded data removed]",
            "text/plain": [
              "<Figure size 432x288 with 1 Axes>"
            ]
          },
          "metadata": {
            "needs_background": "light"
          }
        }
      ]
    },
    {
      "cell_type": "markdown",
      "source": [
        "Let's combine some concepts. How would one make a 2D array that counts from 0 to 99, and is 10 by 10?"
      ],
      "metadata": {
        "id": "DRFIEh_-PooM"
      }
    },
    {
      "cell_type": "code",
      "source": [
        "arr_tenbyten_count = np.arange(100).reshape(10,10)\n",
        "print(arr_tenbyten_count)"
      ],
      "metadata": {
        "colab": {
          "base_uri": "https://localhost:8080/"
        },
        "id": "hvofnoIaPoxy",
        "outputId": "caca0f01-fea4-4a58-f319-925141693a39"
      },
      "execution_count": 22,
      "outputs": [
        {
          "output_type": "stream",
          "name": "stdout",
          "text": [
            "[[ 0  1  2  3  4  5  6  7  8  9]\n",
            " [10 11 12 13 14 15 16 17 18 19]\n",
            " [20 21 22 23 24 25 26 27 28 29]\n",
            " [30 31 32 33 34 35 36 37 38 39]\n",
            " [40 41 42 43 44 45 46 47 48 49]\n",
            " [50 51 52 53 54 55 56 57 58 59]\n",
            " [60 61 62 63 64 65 66 67 68 69]\n",
            " [70 71 72 73 74 75 76 77 78 79]\n",
            " [80 81 82 83 84 85 86 87 88 89]\n",
            " [90 91 92 93 94 95 96 97 98 99]]\n"
          ]
        }
      ]
    },
    {
      "cell_type": "markdown",
      "source": [
        "# More to come"
      ],
      "metadata": {
        "id": "S__UlKaxR5eV"
      }
    },
    {
      "cell_type": "code",
      "source": [
        ""
      ],
      "metadata": {
        "id": "82k7gy4GR5j6"
      },
      "execution_count": null,
      "outputs": []
    }
  ]
}